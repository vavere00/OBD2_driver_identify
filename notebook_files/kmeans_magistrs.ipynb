{
 "cells": [
  {
   "cell_type": "code",
   "execution_count": 144,
   "metadata": {},
   "outputs": [],
   "source": [
    "# import matplotlib\n",
    "#!/usr/bin/env python\n",
    "# coding: utf-8\n",
    "from __future__ import division\n",
    "import matplotlib.pyplot as plt\n",
    "import numpy as np\n",
    "import dataFunc\n",
    "import pandas as pd\n",
    "import ast\n",
    "import os\n",
    "from sklearn import preprocessing\n",
    "from scipy import stats\n",
    "from sklearn.metrics.pairwise import euclidean_distances\n",
    "from scipy.spatial.distance import euclidean\n",
    "import time\n",
    "import datetime\n",
    "from sklearn.cluster import KMeans\n",
    "from sklearn.metrics.cluster import adjusted_rand_score\n",
    "from kneed import KneeLocator\n",
    "import random"
   ]
  },
  {
   "cell_type": "code",
   "execution_count": 182,
   "metadata": {},
   "outputs": [
    {
     "name": "stdout",
     "output_type": "stream",
     "text": [
      "(863, 164)\n",
      "(590, 164)\n"
     ]
    }
   ],
   "source": [
    "#read files and process\n",
    "############################################################\n",
    "#read data files from folder to dictionary of data frames\n",
    "\n",
    "path = '../driving data/colt-all-atributes/4drivers/'\n",
    "names = ['.csv']\n",
    "\n",
    "dfAll = []\n",
    "files = []\n",
    "counter = 0\n",
    "# r=root, d=directories, f = files\n",
    "for r, d, f in os.walk(path):\n",
    "    for file in f:\n",
    "        if '.csv' in file:\n",
    "            if '~' in file:\n",
    "                continue\n",
    "            df_temp = ''\n",
    "            counter += 1\n",
    "            name = file.split('-')[0]\n",
    "            filepath = r + file\n",
    "            df_temp = pd.read_csv(filepath, delimiter = ',', na_values='-')\n",
    "            df_temp['driver'] = str(name)\n",
    "#             print(name + ' ' + str(df_temp.shape) + ' ' + file)\n",
    "#             print(filepath)\n",
    "            print(df_temp.shape)\n",
    "            dfAll.append(df_temp.reset_index(drop=True))"
   ]
  },
  {
   "cell_type": "code",
   "execution_count": 183,
   "metadata": {},
   "outputs": [
    {
     "name": "stdout",
     "output_type": "stream",
     "text": [
      "Throttle_Position(Manifold)(prc)\n",
      "Engine_Load(prc)\n",
      "O2_Volts_Bank_1_sensor_2(V)\n",
      "Turbo_Boost_&_Vacuum_Gauge(bar)\n",
      "driver\n"
     ]
    }
   ],
   "source": [
    "############################################################\n",
    "#read columne list to select from file\n",
    "col_list = list()\n",
    "fileName = '/Users/dmitrrijs/Documents/LU/magistra_darbs/python-files/col_list-IG.txt'\n",
    "with open(fileName) as f:\n",
    "    for line in f:\n",
    "        print(line.strip('\\n'))\n",
    "        col_list.append(line.strip('\\n'))"
   ]
  },
  {
   "cell_type": "code",
   "execution_count": 184,
   "metadata": {},
   "outputs": [],
   "source": [
    "############################################################\n",
    "#clean from rows with column names\n",
    "for i in range(len(dfAll)):\n",
    "    dfAll[i] = dfAll[i][dfAll[i].iloc[:,0] != dfAll[i].columns[0]]\n",
    "\n",
    "# removo non acii from column names\n",
    "for i in range(len(dfAll)):\n",
    "    dataFunc.remove_non_ascii_column(dfAll[i])\n",
    "\n",
    "#select only columns from the list\n",
    "for i in range(len(dfAll)):\n",
    "    dfAll[i] = dfAll[i][(col_list)]\n",
    "\n",
    "# replace infinity with 0\n",
    "for i in range(len(dfAll)):\n",
    "    dfAll[i] = dfAll[i].replace('∞',0).round(3)\n",
    "\n",
    "#values to numeric except 'driver'\n",
    "for i in range(len(dfAll)):\n",
    "    dataFunc.convert_numeric(dfAll[i],)\n",
    "\n",
    "#visualise_treshold\n",
    "# dataFunc.visualise_treshold(dfAll)\n",
    "\n",
    "#fill NaN values with 0\n",
    "for i in range(len(dfAll)):\n",
    "    dfAll[i] = dfAll[i].fillna(0)\n"
   ]
  },
  {
   "cell_type": "code",
   "execution_count": 169,
   "metadata": {},
   "outputs": [],
   "source": [
    "#give concat data frame to function\n",
    "def create_classes(df):\n",
    "    cls_actual = []\n",
    "    df = df.reset_index(drop=True)\n",
    "    for i in range(len(df.index)):\n",
    "        cls_actual.append(df['driver'][i])\n",
    "\n",
    "    cls_names = set(cls_actual)\n",
    "    cls_names = list(cls_names)\n",
    "\n",
    "    map_name = {}\n",
    "    class_count = 0\n",
    "    for name in cls_names:\n",
    "        print(name + ' = ' + str(class_count))\n",
    "        map_name[name] = class_count\n",
    "        class_count += 1\n",
    "\n",
    "    for i in range(len(cls_actual)):\n",
    "        cls_actual[i] = map_name[cls_actual[i]]\n",
    "\n",
    "#     print(cls_actual)\n",
    "    return cls_actual"
   ]
  },
  {
   "cell_type": "code",
   "execution_count": 185,
   "metadata": {},
   "outputs": [],
   "source": [
    "#concat files after cleaning and making class vector\n",
    "df_concat_with_driver = pd.concat(dfAll)\n",
    "df_concat_with_driver.shape\n",
    "#DROP driver column\n",
    "df_concat = df_concat_with_driver.drop(columns=['driver'])\n",
    "df_concat_with_driver = df_concat_with_driver.reset_index(drop=True)\n",
    "# df_concat = df_concat.drop(columns=['Trip_Time(Since_journey_start)(s)']).reset_index(drop=True)"
   ]
  },
  {
   "cell_type": "code",
   "execution_count": 186,
   "metadata": {},
   "outputs": [],
   "source": [
    "#normalize with MinMaxScaler\n",
    "col_list_1 = col_list\n",
    "col_list_1.remove('driver')\n",
    "mms = preprocessing.MinMaxScaler()\n",
    "mms.fit(df_concat)\n",
    "data_transformed = mms.transform(df_concat)\n",
    "# df_transformed = pd.DataFrame(data_transformed,columns = col_list_1)\n",
    "# df_transformed['driver'] = df_concat_with_driver['driver']"
   ]
  },
  {
   "cell_type": "code",
   "execution_count": 187,
   "metadata": {},
   "outputs": [],
   "source": [
    "def clusterDIS(DIS, numberOfClusters):\n",
    "\n",
    "    sumDIS = float('inf')\n",
    "    \n",
    "    #make coupe of iterations to find best kmeans prediction\n",
    "    for s in range(10):\n",
    "        kmeans = KMeans(n_clusters=numberOfClusters).fit(DIS)\n",
    "        SUMD = kmeans.inertia_\n",
    "#         print('sumdis' + str(SUMD))\n",
    "        if SUMD < sumDIS :\n",
    "            sumDIS = SUMD\n",
    "            cls = kmeans.labels_\n",
    "          \n",
    "    return cls,sumDIS"
   ]
  },
  {
   "cell_type": "code",
   "execution_count": 188,
   "metadata": {},
   "outputs": [
    {
     "name": "stdout",
     "output_type": "stream",
     "text": [
      "1\n",
      "2\n",
      "3\n",
      "4\n",
      "5\n"
     ]
    },
    {
     "data": {
      "image/png": "[encoded data removed]",
      "text/plain": [
       "<Figure size 432x288 with 1 Axes>"
      ]
     },
     "metadata": {
      "needs_background": "light"
     },
     "output_type": "display_data"
    },
    {
     "name": "stdout",
     "output_type": "stream",
     "text": [
      "dima = 0\n",
      "Aprēķinātais klasteru skaits : 2\n",
      "ARI : 0.0\n"
     ]
    }
   ],
   "source": [
    "#make coupel of iterations to find best kmeans prediction\n",
    "# coding: utf-8\n",
    "\n",
    "Kmin = 1\n",
    "Kmax = int(len(dfAll) / 2) + 2\n",
    "# Kmax = 6\n",
    "\n",
    "\n",
    "CLS = []\n",
    "SUMDIS = []\n",
    "K = []\n",
    "\n",
    "for k in range(Kmin, Kmax):\n",
    "    print(k)\n",
    "    cls,sumDIS = clusterDIS(data_transformed, k)\n",
    "    K.append(k)\n",
    "    CLS.append(cls)\n",
    "    SUMDIS.append(sumDIS)\n",
    "    \n",
    "\n",
    "#####################################################\n",
    "# . PLOT AND FIND CLUSTERS\n",
    "\n",
    "\n",
    "plt.plot(K, SUMDIS, 'bx-')\n",
    "plt.xlabel('klasteru skaits')\n",
    "plt.ylabel(u'Distanču kvadrātu summa')\n",
    "plt.title(u'\"Elkoņa\" metode optimālam klasteru skaitam')\n",
    "plt.vlines(clusters, plt.ylim()[0], plt.ylim()[1], linestyles='dashed')\n",
    "plt.show()\n",
    "\n",
    "kn = KneeLocator(K, SUMDIS, curve='convex', direction='decreasing')\n",
    "clusters = kn.knee\n",
    "# print('Clusters all : ' + str(clusters))\n",
    "# print('Labesl all : ' + str(CLS[K.index(clusters)]))\n",
    "\n",
    "\n",
    "#####################################################\n",
    "# . ARI RESULTS\n",
    "\n",
    "cls_true = create_classes(df_concat_with_driver)\n",
    "cls_all = CLS[K.index(clusters)]\n",
    "# print('Actual  : ' +'[' + str(' '.join(map(str, cls_true))) + ']')\n",
    "# print('cls_all : ' + str(cls_all))\n",
    "print('Aprēķinātais klasteru skaits : ' + str(clusters))\n",
    "\n",
    "Rscore_all = round(adjusted_rand_score(cls_all, cls_true),5)\n",
    "print('ARI : ' + str(Rscore_all))"
   ]
  }
 ],
 "metadata": {
  "kernelspec": {
   "display_name": "Python 2",
   "language": "python",
   "name": "python2"
  },
  "language_info": {
   "codemirror_mode": {
    "name": "ipython",
    "version": 2
   },
   "file_extension": ".py",
   "mimetype": "text/x-python",
   "name": "python",
   "nbconvert_exporter": "python",
   "pygments_lexer": "ipython2",
   "version": "2.7.15"
  }
 },
 "nbformat": 4,
 "nbformat_minor": 2
}
